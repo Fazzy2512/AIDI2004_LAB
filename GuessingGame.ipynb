{
  "nbformat": 4,
  "nbformat_minor": 0,
  "metadata": {
    "colab": {
      "provenance": []
    },
    "kernelspec": {
      "name": "python3",
      "display_name": "Python 3"
    },
    "language_info": {
      "name": "python"
    }
  },
  "cells": [
    {
      "cell_type": "code",
      "execution_count": 1,
      "metadata": {
        "colab": {
          "base_uri": "https://localhost:8080/"
        },
        "id": "zufysqIUlbsP",
        "outputId": "a77f418c-f09f-452b-9e4c-ba296d5f0aae"
      },
      "outputs": [
        {
          "output_type": "stream",
          "name": "stdout",
          "text": [
            "Welcome to the Number Guessing Game!\n",
            "I have chosen a number between 1 and 100.\n",
            "Can you guess what it is? You have 7 attempts!\n",
            "Attempt 1: Enter your guess: 7\n",
            "Too low! Try again.\n",
            "Attempt 2: Enter your guess: 25\n",
            "Too low! Try again.\n",
            "Attempt 3: Enter your guess: 3\n",
            "Too low! Try again.\n",
            "Attempt 4: Enter your guess: 55\n",
            "Too low! Try again.\n",
            "Attempt 5: Enter your guess: 98\n",
            "Too high! Try again.\n",
            "Attempt 6: Enter your guess: 65\n",
            "Too low! Try again.\n",
            "Attempt 7: Enter your guess: 1\n",
            "Too low! Try again.\n",
            "Sorry, you've used all your attempts. The number was 84. Better luck next time!\n"
          ]
        }
      ],
      "source": [
        "import random\n",
        "\n",
        "def number_guessing_game():\n",
        "    print(\"Welcome to the Number Guessing Game!\")\n",
        "    print(\"I have chosen a number between 1 and 100.\")\n",
        "    print(\"Can you guess what it is? You have 7 attempts!\")\n",
        "\n",
        "    # Generate a random number between 1 and 100\n",
        "    secret_number = random.randint(1, 100)\n",
        "    attempts = 7\n",
        "\n",
        "    for attempt in range(1, attempts + 1):\n",
        "        try:\n",
        "            guess = int(input(f\"Attempt {attempt}: Enter your guess: \"))\n",
        "\n",
        "            if guess < secret_number:\n",
        "                print(\"Too low! Try again.\")\n",
        "            elif guess > secret_number:\n",
        "                print(\"Too high! Try again.\")\n",
        "            else:\n",
        "                print(f\"Congratulations! You guessed the number {secret_number} in {attempt} attempts.\")\n",
        "                break\n",
        "        except ValueError:\n",
        "            print(\"Invalid input! Please enter a valid number.\")\n",
        "    else:\n",
        "        print(f\"Sorry, you've used all your attempts. The number was {secret_number}. Better luck next time!\")\n",
        "\n",
        "# Run the game\n",
        "if __name__ == \"__main__\":\n",
        "    number_guessing_game()\n"
      ]
    }
  ]
}