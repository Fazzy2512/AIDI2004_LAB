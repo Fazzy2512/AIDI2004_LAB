{
  "nbformat": 4,
  "nbformat_minor": 0,
  "metadata": {
    "colab": {
      "provenance": []
    },
    "kernelspec": {
      "name": "python3",
      "display_name": "Python 3"
    },
    "language_info": {
      "name": "python"
    }
  },
  "cells": [
    {
      "cell_type": "code",
      "execution_count": 1,
      "metadata": {
        "colab": {
          "base_uri": "https://localhost:8080/"
        },
        "id": "758NaGBhyXki",
        "outputId": "0fcf11ab-d459-4443-a222-fcf4e44c1056"
      },
      "outputs": [
        {
          "output_type": "stream",
          "name": "stdout",
          "text": [
            "THIS IS MY LAB ASSIGNMENT\n"
          ]
        }
      ],
      "source": [
        "print('THIS IS MY LAB ASSIGNMENT')"
      ]
    }
  ]
}